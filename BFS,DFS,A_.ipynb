{
  "nbformat": 4,
  "nbformat_minor": 0,
  "metadata": {
    "colab": {
      "provenance": [],
      "authorship_tag": "ABX9TyObN36tUm0Rfqh9/SF+aJc2",
      "include_colab_link": true
    },
    "kernelspec": {
      "name": "python3",
      "display_name": "Python 3"
    },
    "language_info": {
      "name": "python"
    }
  },
  "cells": [
    {
      "cell_type": "markdown",
      "metadata": {
        "id": "view-in-github",
        "colab_type": "text"
      },
      "source": [
        "<a href=\"https://colab.research.google.com/github/Ankit123trk/Advance-Artificial-Intelligence-practical-/blob/main/BFS%2CDFS%2CA_.ipynb\" target=\"_parent\"><img src=\"https://colab.research.google.com/assets/colab-badge.svg\" alt=\"Open In Colab\"/></a>"
      ]
    },
    {
      "cell_type": "code",
      "execution_count": null,
      "metadata": {
        "id": "JTiljSid4Yoo"
      },
      "outputs": [],
      "source": [
        "#Nodes: a, b, c, d, e, f, z\n",
        "#Edges:\n",
        "#- a to b: 9\n",
        "#- a to c: 4\n",
        "#- a to d: 7\n",
        "#- b to e: 11\n",
        "#- b to c: 14\n",
        "#- c to e: 17\n",
        "#- c to f: 12\n",
        "#- d to f: 14\n",
        "#- e to z: 5\n",
        "#- f to z: 9\n",
        "\n",
        "#BFS from 'a':\n",
        "#a -> b -> c -> d -> e -> f -> z\n",
        "\n",
        "#DFS from 'a':\n",
        "#a -> b -> e -> z -> c -> f -> d\n",
        "\n",
        "\n",
        "#Heuristics:\n",
        "#- a: 21\n",
        "#- b: 14\n",
        "#- c: 18\n",
        "#- d: 18\n",
        "#- e: 5\n",
        "#- f: 8\n",
        "\n",
        "#A* path from 'a' to 'z':\n",
        "#a -> d -> f -> z\n",
        "\n"
      ]
    },
    {
      "cell_type": "code",
      "source": [
        "from queue import PriorityQueue\n",
        "\n",
        "graph = {\n",
        "    'a': {'b': 9, 'c': 4, 'd': 7},\n",
        "    'b': {'a': 9, 'e': 11},\n",
        "    'c': {'a': 4, 'd': 12, 'e': 17},\n",
        "    'd': {'a': 7, 'c': 12, 'f': 14},\n",
        "    'e': {'b': 11, 'c': 17, 'z': 5},\n",
        "    'f': {'d': 14, 'z': 9},\n",
        "    'z': {'e': 5, 'f': 9}\n",
        "}\n",
        "\n",
        "heuristic = {\n",
        "    'a': 21, 'b': 14, 'c': 18, 'd': 18, 'e': 5, 'f': 8, 'z': 0\n",
        "}\n",
        "\n",
        "\n"
      ],
      "metadata": {
        "id": "qObqIvBI5uyJ"
      },
      "execution_count": null,
      "outputs": []
    },
    {
      "cell_type": "code",
      "source": [
        "def bfs(start):\n",
        "    visited = set()\n",
        "    queue = [start]\n",
        "    print(\"BFS Traversal:\")\n",
        "    while queue:\n",
        "        node = queue.pop(0)\n",
        "        if node not in visited:\n",
        "            print(node)\n",
        "            visited.add(node)\n",
        "            queue.extend(graph[node].keys())\n",
        "bfs(start='a')"
      ],
      "metadata": {
        "colab": {
          "base_uri": "https://localhost:8080/"
        },
        "id": "ppD_5dnh8ESL",
        "outputId": "cf34eb6e-fea1-4528-dfdd-37cb26f75c6c"
      },
      "execution_count": null,
      "outputs": [
        {
          "output_type": "stream",
          "name": "stdout",
          "text": [
            "BFS Traversal:\n",
            "a\n",
            "b\n",
            "c\n",
            "d\n",
            "e\n",
            "f\n",
            "z\n"
          ]
        }
      ]
    },
    {
      "cell_type": "code",
      "source": [
        "def dfs(start, visited=None):\n",
        "    if visited is None:\n",
        "        visited = set()\n",
        "        print(\"DFS Traversal:\")\n",
        "    if start not in visited:\n",
        "        print(start)\n",
        "        visited.add(start)\n",
        "        for neighbor in graph[start]:\n",
        "            dfs(neighbor, visited)\n",
        "dfs(start='a')"
      ],
      "metadata": {
        "colab": {
          "base_uri": "https://localhost:8080/"
        },
        "id": "2rcUmwC48E_H",
        "outputId": "8ccec764-cb5f-4d47-c9ef-fc14f243f031"
      },
      "execution_count": null,
      "outputs": [
        {
          "output_type": "stream",
          "name": "stdout",
          "text": [
            "DFS Traversal:\n",
            "a\n",
            "b\n",
            "e\n",
            "c\n",
            "d\n",
            "f\n",
            "z\n"
          ]
        }
      ]
    },
    {
      "cell_type": "code",
      "source": [
        "\n",
        "\n",
        "def a_star_search(start, goal):\n",
        "    open_set = PriorityQueue()\n",
        "    open_set.put((heuristic[start], start))\n",
        "    came_from = {}\n",
        "    g_score = {node: float('inf') for node in graph}\n",
        "    g_score[start] = 0\n",
        "\n",
        "    print(\"A* Search Path:\")\n",
        "    while not open_set.empty():\n",
        "        _, current = open_set.get()\n",
        "        print(current)\n",
        "        if current == goal:\n",
        "            break\n",
        "        for neighbor, cost in graph[current].items():\n",
        "            tentative_g_score = g_score[current] + cost\n",
        "            if tentative_g_score < g_score[neighbor]:\n",
        "                came_from[neighbor] = current\n",
        "                g_score[neighbor] = tentative_g_score\n",
        "                f_score = tentative_g_score + heuristic[neighbor]\n",
        "                open_set.put((f_score, neighbor))\n",
        "\n",
        "start, goal = 'a', 'z'\n",
        "a_star_search(start, goal)\n"
      ],
      "metadata": {
        "colab": {
          "base_uri": "https://localhost:8080/"
        },
        "id": "0hv9yFng8Ch2",
        "outputId": "18e91696-8964-455f-b8d5-4e7fbcecda50"
      },
      "execution_count": null,
      "outputs": [
        {
          "output_type": "stream",
          "name": "stdout",
          "text": [
            "A* Search Path:\n",
            "a\n",
            "c\n",
            "b\n",
            "d\n",
            "e\n",
            "z\n"
          ]
        }
      ]
    }
  ]
}