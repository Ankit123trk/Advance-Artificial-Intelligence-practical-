{
  "nbformat": 4,
  "nbformat_minor": 0,
  "metadata": {
    "colab": {
      "provenance": [],
      "authorship_tag": "ABX9TyMHaVeiaNNwq9ZerlZgE//m",
      "include_colab_link": true
    },
    "kernelspec": {
      "name": "python3",
      "display_name": "Python 3"
    },
    "language_info": {
      "name": "python"
    }
  },
  "cells": [
    {
      "cell_type": "markdown",
      "metadata": {
        "id": "view-in-github",
        "colab_type": "text"
      },
      "source": [
        "<a href=\"https://colab.research.google.com/github/Ankit123trk/Advance-Artificial-Intelligence-practical-/blob/main/block_word_problem.ipynb\" target=\"_parent\"><img src=\"https://colab.research.google.com/assets/colab-badge.svg\" alt=\"Open In Colab\"/></a>"
      ]
    },
    {
      "cell_type": "code",
      "execution_count": 1,
      "metadata": {
        "colab": {
          "base_uri": "https://localhost:8080/",
          "height": 563
        },
        "id": "zxB_C7XMJCfb",
        "outputId": "c782bf62-40f8-4a39-fe9f-ebb042b00923"
      },
      "outputs": [
        {
          "output_type": "display_data",
          "data": {
            "text/plain": [
              "<Figure size 500x300 with 1 Axes>"
            ],
            "image/png": "[encoded data removed]"
          },
          "metadata": {}
        },
        {
          "output_type": "display_data",
          "data": {
            "text/plain": [
              "<Figure size 500x300 with 1 Axes>"
            ],
            "image/png": "[encoded data removed]"
          },
          "metadata": {}
        }
      ],
      "source": [
        "import matplotlib.pyplot as plt\n",
        "\n",
        "# Define initial and goal states\n",
        "initial_state = {\n",
        "    \"on\": {\"B\": \"A\"},  # B is on A\n",
        "    \"ontable\": {\"A\", \"C\", \"D\"},  # A, C, and D are on the table\n",
        "    \"clear\": {\"B\", \"C\", \"D\"},  # Top of B, C, and D are clear\n",
        "}\n",
        "\n",
        "goal_state = {\n",
        "    \"on\": {\"C\": \"A\", \"B\": \"D\"},  # C on A, B on D\n",
        "    \"ontable\": {\"A\", \"D\"},  # A and D are on the table\n",
        "    \"clear\": {\"B\", \"C\"},  # Top of B and C are clear\n",
        "}\n",
        "\n",
        "# Plan: Move B to table, Move C to A, Move B to D\n",
        "actions = [\n",
        "    (\"unstack\", \"B\", \"A\"),\n",
        "    (\"putdown\", \"B\"),\n",
        "    (\"pickup\", \"C\"),\n",
        "    (\"stack\", \"C\", \"A\"),\n",
        "    (\"pickup\", \"B\"),\n",
        "    (\"stack\", \"B\", \"D\"),\n",
        "]\n",
        "\n",
        "# Visualization Function\n",
        "def draw_blocks(state, title):\n",
        "    fig, ax = plt.subplots(figsize=(5, 3))\n",
        "    ax.set_xlim(-1, 3)\n",
        "    ax.set_ylim(0, 3)\n",
        "    ax.axis(\"off\")\n",
        "\n",
        "    positions = {\"A\": (0, 0), \"B\": (0, 1), \"C\": (1, 1), \"D\": (2, 0)}\n",
        "\n",
        "    # Adjust positions based on state\n",
        "    for block in state[\"on\"]:\n",
        "        below = state[\"on\"][block]\n",
        "        positions[block] = (positions[below][0], positions[below][1] + 1)\n",
        "\n",
        "    for block, (x, y) in positions.items():\n",
        "        ax.add_patch(plt.Rectangle((x, y), 0.8, 0.8, fill=True, edgecolor=\"black\", facecolor=\"lightblue\"))\n",
        "        ax.text(x + 0.4, y + 0.4, block, ha=\"center\", va=\"center\", fontsize=12, fontweight=\"bold\")\n",
        "\n",
        "    ax.set_title(title, fontsize=12)\n",
        "    plt.show()\n",
        "\n",
        "# Show initial state\n",
        "draw_blocks(initial_state, \"Initial State\")\n",
        "\n",
        "# Execute actions\n",
        "current_state = initial_state.copy()\n",
        "for action in actions:\n",
        "    if action[0] == \"unstack\":\n",
        "        _, block, below = action\n",
        "        current_state[\"clear\"].add(below)\n",
        "        current_state[\"clear\"].remove(block)\n",
        "        current_state[\"on\"].pop(block)\n",
        "        current_state[\"ontable\"].add(block)\n",
        "\n",
        "    elif action[0] == \"putdown\":\n",
        "        _, block = action\n",
        "        current_state[\"ontable\"].add(block)\n",
        "        current_state[\"clear\"].add(block)\n",
        "\n",
        "    elif action[0] == \"pickup\":\n",
        "        _, block = action\n",
        "        current_state[\"ontable\"].remove(block)\n",
        "        current_state[\"clear\"].remove(block)\n",
        "\n",
        "    elif action[0] == \"stack\":\n",
        "        _, block, target = action\n",
        "        current_state[\"on\"][block] = target\n",
        "        current_state[\"clear\"].remove(target)\n",
        "        current_state[\"clear\"].add(block)\n",
        "\n",
        "# Show goal state\n",
        "draw_blocks(goal_state, \"Goal State\")\n"
      ]
    }
  ]
}